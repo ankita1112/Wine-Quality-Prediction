{
 "cells": [
  {
   "cell_type": "markdown",
   "metadata": {},
   "source": [
    "##                  WINE QUALITY PREDICTION"
   ]
  },
  {
   "cell_type": "code",
   "execution_count": 7,
   "metadata": {},
   "outputs": [],
   "source": [
    "# import necessary libraries\n",
    "\n",
    "import pandas as pd\n",
    "import sys \n",
    "import numpy as np\n",
    "import seaborn as sns\n",
    "from math import sqrt\n",
    "\n",
    "from sklearn import metrics\n",
    "from sklearn.metrics import mean_squared_error\n",
    "from sklearn import linear_model\n",
    "from sklearn.model_selection import train_test_split\n",
    "from sklearn.preprocessing import MinMaxScaler\n",
    "from sklearn.model_selection import cross_val_score\n",
    "\n",
    "%matplotlib inline\n",
    "import matplotlib as mpl\n",
    "import matplotlib.pyplot as plt"
   ]
  },
  {
   "cell_type": "markdown",
   "metadata": {},
   "source": [
    "***"
   ]
  },
  {
   "cell_type": "markdown",
   "metadata": {},
   "source": [
    "**------------------------------------------------------------ 1. LOADING THE DATA -----------------------------------------------------------------**"
   ]
  },
  {
   "cell_type": "markdown",
   "metadata": {},
   "source": [
    "***"
   ]
  },
  {
   "cell_type": "code",
   "execution_count": 8,
   "metadata": {},
   "outputs": [
    {
     "name": "stderr",
     "output_type": "stream",
     "text": [
      "b'Skipping line 3149: expected 12 fields, saw 13\\nSkipping line 4821: expected 12 fields, saw 13\\n'\n"
     ]
    }
   ],
   "source": [
    "# load wine dataset from csv\n",
    "csv_path = \"winedata.csv\"\n",
    "df = pd.read_csv(csv_path, sep = ';', error_bad_lines=False)  # dropping bad lines"
   ]
  },
  {
   "cell_type": "code",
   "execution_count": 9,
   "metadata": {},
   "outputs": [
    {
     "data": {
      "text/html": [
       "<div>\n",
       "<style scoped>\n",
       "    .dataframe tbody tr th:only-of-type {\n",
       "        vertical-align: middle;\n",
       "    }\n",
       "\n",
       "    .dataframe tbody tr th {\n",
       "        vertical-align: top;\n",
       "    }\n",
       "\n",
       "    .dataframe thead th {\n",
       "        text-align: right;\n",
       "    }\n",
       "</style>\n",
       "<table border=\"1\" class=\"dataframe\">\n",
       "  <thead>\n",
       "    <tr style=\"text-align: right;\">\n",
       "      <th></th>\n",
       "      <th>fixed acidity</th>\n",
       "      <th>volatile acidity</th>\n",
       "      <th>citric acid</th>\n",
       "      <th>residual sugar</th>\n",
       "      <th>chlorides</th>\n",
       "      <th>free sulfur dioxide</th>\n",
       "      <th>total sulfur dioxide</th>\n",
       "      <th>density</th>\n",
       "      <th>pH</th>\n",
       "      <th>sulphates</th>\n",
       "      <th>alcohol</th>\n",
       "      <th>quality</th>\n",
       "    </tr>\n",
       "  </thead>\n",
       "  <tbody>\n",
       "    <tr>\n",
       "      <td>0</td>\n",
       "      <td>7.0</td>\n",
       "      <td>0.27</td>\n",
       "      <td>0.36</td>\n",
       "      <td>20.7</td>\n",
       "      <td>0.045</td>\n",
       "      <td>45.0</td>\n",
       "      <td>170.0</td>\n",
       "      <td>1.001</td>\n",
       "      <td>3.0</td>\n",
       "      <td>0.45</td>\n",
       "      <td>8.8</td>\n",
       "      <td>6</td>\n",
       "    </tr>\n",
       "    <tr>\n",
       "      <td>1</td>\n",
       "      <td>6.3</td>\n",
       "      <td>0.3</td>\n",
       "      <td>0.34</td>\n",
       "      <td>1.6</td>\n",
       "      <td>0.049</td>\n",
       "      <td>14.0</td>\n",
       "      <td>132.0</td>\n",
       "      <td>0.9940000000000001</td>\n",
       "      <td>3.3</td>\n",
       "      <td>0.49</td>\n",
       "      <td>9.5</td>\n",
       "      <td>6</td>\n",
       "    </tr>\n",
       "    <tr>\n",
       "      <td>2</td>\n",
       "      <td>8.1</td>\n",
       "      <td>0.28</td>\n",
       "      <td>0.4</td>\n",
       "      <td>6.9</td>\n",
       "      <td>0.05</td>\n",
       "      <td>30.0</td>\n",
       "      <td>97.0</td>\n",
       "      <td>0.9951</td>\n",
       "      <td>3.26</td>\n",
       "      <td>0.44</td>\n",
       "      <td>10.1</td>\n",
       "      <td>6</td>\n",
       "    </tr>\n",
       "    <tr>\n",
       "      <td>3</td>\n",
       "      <td>7.2</td>\n",
       "      <td>0.23</td>\n",
       "      <td>0.32</td>\n",
       "      <td>8.5</td>\n",
       "      <td>0.057999999999999996</td>\n",
       "      <td>47.0</td>\n",
       "      <td>186.0</td>\n",
       "      <td>0.9956</td>\n",
       "      <td>3.19</td>\n",
       "      <td>0.4</td>\n",
       "      <td>9.9</td>\n",
       "      <td>6</td>\n",
       "    </tr>\n",
       "    <tr>\n",
       "      <td>4</td>\n",
       "      <td>7.2</td>\n",
       "      <td>0.23</td>\n",
       "      <td>0.32</td>\n",
       "      <td>8.5</td>\n",
       "      <td>0.057999999999999996</td>\n",
       "      <td>47.0</td>\n",
       "      <td>186.0</td>\n",
       "      <td>0.9956</td>\n",
       "      <td>3.19</td>\n",
       "      <td>0.4</td>\n",
       "      <td>9.9</td>\n",
       "      <td>6</td>\n",
       "    </tr>\n",
       "  </tbody>\n",
       "</table>\n",
       "</div>"
      ],
      "text/plain": [
       "   fixed acidity volatile acidity citric acid residual sugar  \\\n",
       "0            7.0             0.27        0.36           20.7   \n",
       "1            6.3              0.3        0.34            1.6   \n",
       "2            8.1             0.28         0.4            6.9   \n",
       "3            7.2             0.23        0.32            8.5   \n",
       "4            7.2             0.23        0.32            8.5   \n",
       "\n",
       "              chlorides free sulfur dioxide total sulfur dioxide  \\\n",
       "0                 0.045                45.0                170.0   \n",
       "1                 0.049                14.0                132.0   \n",
       "2                  0.05                30.0                 97.0   \n",
       "3  0.057999999999999996                47.0                186.0   \n",
       "4  0.057999999999999996                47.0                186.0   \n",
       "\n",
       "              density    pH sulphates alcohol quality  \n",
       "0               1.001   3.0      0.45     8.8       6  \n",
       "1  0.9940000000000001   3.3      0.49     9.5       6  \n",
       "2              0.9951  3.26      0.44    10.1       6  \n",
       "3              0.9956  3.19       0.4     9.9       6  \n",
       "4              0.9956  3.19       0.4     9.9       6  "
      ]
     },
     "execution_count": 9,
     "metadata": {},
     "output_type": "execute_result"
    }
   ],
   "source": [
    "df.head()"
   ]
  },
  {
   "cell_type": "code",
   "execution_count": 10,
   "metadata": {},
   "outputs": [
    {
     "name": "stdout",
     "output_type": "stream",
     "text": [
      "<class 'pandas.core.frame.DataFrame'>\n",
      "RangeIndex: 4896 entries, 0 to 4895\n",
      "Data columns (total 12 columns):\n",
      "fixed acidity           4891 non-null float64\n",
      "volatile acidity        4891 non-null object\n",
      "citric acid             4843 non-null object\n",
      "residual sugar          4886 non-null object\n",
      "chlorides               4890 non-null object\n",
      "free sulfur dioxide     4888 non-null object\n",
      "total sulfur dioxide    4889 non-null object\n",
      "density                 4890 non-null object\n",
      "pH                      4890 non-null object\n",
      "sulphates               4892 non-null object\n",
      "alcohol                 4890 non-null object\n",
      "quality                 4892 non-null object\n",
      "dtypes: float64(1), object(11)\n",
      "memory usage: 459.1+ KB\n"
     ]
    }
   ],
   "source": [
    "df.info()"
   ]
  },
  {
   "cell_type": "code",
   "execution_count": 18,
   "metadata": {},
   "outputs": [
    {
     "data": {
      "text/plain": [
       "130"
      ]
     },
     "execution_count": 18,
     "metadata": {},
     "output_type": "execute_result"
    }
   ],
   "source": [
    "# calculate total number of null values in dataframe\n",
    "df.isnull().sum().sum()"
   ]
  },
  {
   "cell_type": "code",
   "execution_count": 19,
   "metadata": {},
   "outputs": [
    {
     "data": {
      "text/plain": [
       "fixed acidity           3.80000\n",
       "volatile acidity        0.08000\n",
       "citric acid             0.00000\n",
       "residual sugar          0.60000\n",
       "chlorides               0.00900\n",
       "free sulfur dioxide     2.00000\n",
       "total sulfur dioxide    9.00000\n",
       "density                 0.98711\n",
       "pH                      2.72000\n",
       "sulphates               0.22000\n",
       "alcohol                 8.00000\n",
       "dtype: float64"
      ]
     },
     "execution_count": 19,
     "metadata": {},
     "output_type": "execute_result"
    }
   ],
   "source": [
    "# calculate minimum value for each column\n",
    "minimum = df[['fixed acidity','volatile acidity','citric acid','residual sugar','chlorides', 'free sulfur dioxide', 'total sulfur dioxide','density', 'pH', 'sulphates', 'alcohol']].min()\n",
    "minimum"
   ]
  },
  {
   "cell_type": "code",
   "execution_count": 20,
   "metadata": {},
   "outputs": [
    {
     "data": {
      "text/plain": [
       "fixed acidity            14.20000\n",
       "volatile acidity          1.10000\n",
       "citric acid               1.66000\n",
       "residual sugar           65.80000\n",
       "chlorides                 0.34600\n",
       "free sulfur dioxide     289.00000\n",
       "total sulfur dioxide    440.00000\n",
       "density                   1.03898\n",
       "pH                        3.82000\n",
       "sulphates                 1.08000\n",
       "alcohol                  14.20000\n",
       "dtype: float64"
      ]
     },
     "execution_count": 20,
     "metadata": {},
     "output_type": "execute_result"
    }
   ],
   "source": [
    "# calculate maximum value for each column\n",
    "maximum = df[['fixed acidity','volatile acidity', 'citric acid', 'residual sugar', 'chlorides', 'free sulfur dioxide', 'total sulfur dioxide','density', 'pH', 'sulphates', 'alcohol']].max()\n",
    "maximum"
   ]
  },
  {
   "cell_type": "markdown",
   "metadata": {},
   "source": [
    "scale of different attributes is not equal,for example scale of volatile acidity is 0.08-1.1 whereas for total sulphur dioxide it is 9 - 440"
   ]
  },
  {
   "cell_type": "code",
   "execution_count": 21,
   "metadata": {},
   "outputs": [],
   "source": [
    "# change object type to float for all columns except quality\n",
    "df[['volatile acidity', 'citric acid', 'residual sugar', 'chlorides', 'free sulfur dioxide', 'total sulfur dioxide','density', 'pH', 'sulphates', 'alcohol']]= df[['volatile acidity', 'citric acid', 'residual sugar', 'chlorides', 'free sulfur dioxide', 'total sulfur dioxide','density', 'pH', 'sulphates', 'alcohol']].astype('float')"
   ]
  },
  {
   "cell_type": "code",
   "execution_count": 22,
   "metadata": {},
   "outputs": [
    {
     "name": "stdout",
     "output_type": "stream",
     "text": [
      "<class 'pandas.core.frame.DataFrame'>\n",
      "RangeIndex: 4896 entries, 0 to 4895\n",
      "Data columns (total 12 columns):\n",
      "fixed acidity           4891 non-null float64\n",
      "volatile acidity        4890 non-null float64\n",
      "citric acid             4842 non-null float64\n",
      "residual sugar          4885 non-null float64\n",
      "chlorides               4889 non-null float64\n",
      "free sulfur dioxide     4887 non-null float64\n",
      "total sulfur dioxide    4888 non-null float64\n",
      "density                 4889 non-null float64\n",
      "pH                      4889 non-null float64\n",
      "sulphates               4891 non-null float64\n",
      "alcohol                 4889 non-null float64\n",
      "quality                 4892 non-null object\n",
      "dtypes: float64(11), object(1)\n",
      "memory usage: 459.1+ KB\n"
     ]
    }
   ],
   "source": [
    "df.info()"
   ]
  },
  {
   "cell_type": "code",
   "execution_count": 23,
   "metadata": {},
   "outputs": [
    {
     "data": {
      "text/plain": [
       "fixed acidity            68\n",
       "volatile acidity        125\n",
       "citric acid              87\n",
       "residual sugar          310\n",
       "chlorides               160\n",
       "free sulfur dioxide     132\n",
       "total sulfur dioxide    251\n",
       "density                 890\n",
       "pH                      103\n",
       "sulphates                79\n",
       "alcohol                 103\n",
       "quality                  11\n",
       "dtype: int64"
      ]
     },
     "execution_count": 23,
     "metadata": {},
     "output_type": "execute_result"
    }
   ],
   "source": [
    "# number of unique values in every column\n",
    "df.nunique()"
   ]
  },
  {
   "cell_type": "code",
   "execution_count": 24,
   "metadata": {},
   "outputs": [
    {
     "name": "stdout",
     "output_type": "stream",
     "text": [
      "4013\n"
     ]
    }
   ],
   "source": [
    "# calculate the number of unique wines\n",
    "print(len(df.drop_duplicates()))"
   ]
  },
  {
   "cell_type": "markdown",
   "metadata": {},
   "source": [
    "**Observations**"
   ]
  },
  {
   "cell_type": "code",
   "execution_count": 1,
   "metadata": {},
   "outputs": [],
   "source": [
    "#there are 4896 rows and 12 columns\n",
    "#there are 4896 entries i.e. 4896 wines are included in the dataset\n",
    "#mostly all features have object data type which should be changed to numeric\n",
    "#all columns have some null entries,total = 120\n",
    "#column quality has some non numeric entries such as low,high\n",
    "#scale of the different attributes is not equal as attributes have varying ranges\n",
    "#All wines are not unique, there are only 4013 unique wines\n",
    "#scale of different attributes is not equal,for example scale of volatile acidity is 0.08-1.1 whereas for total sulphur dioxide it is 9 - 440"
   ]
  },
  {
   "cell_type": "code",
   "execution_count": 25,
   "metadata": {},
   "outputs": [
    {
     "data": {
      "text/plain": [
       "count    4794.000000\n",
       "mean        5.876929\n",
       "std         0.884690\n",
       "min         3.000000\n",
       "25%         5.000000\n",
       "50%         6.000000\n",
       "75%         6.000000\n",
       "max         9.000000\n",
       "Name: quality, dtype: float64"
      ]
     },
     "execution_count": 25,
     "metadata": {},
     "output_type": "execute_result"
    }
   ],
   "source": [
    "# finding minimum and maximum values of column quality\n",
    "df_quality = pd.to_numeric(df['quality'],downcast='float',errors='coerce')\n",
    "df_quality.describe()"
   ]
  },
  {
   "cell_type": "markdown",
   "metadata": {},
   "source": [
    "We find min = 3 & max = 9"
   ]
  },
  {
   "cell_type": "code",
   "execution_count": 26,
   "metadata": {},
   "outputs": [],
   "source": [
    "# replace 'low' by 3 and 'high' by 9\n",
    "df['quality'] = df['quality'].replace(to_replace = 'low', value = 3)\n",
    "df['quality'] = df['quality'].replace(to_replace = 'high', value = 9)"
   ]
  },
  {
   "cell_type": "code",
   "execution_count": 27,
   "metadata": {},
   "outputs": [],
   "source": [
    "# change data type of quality\n",
    "df['quality'] = pd.to_numeric(df['quality'],downcast='float',errors='coerce')"
   ]
  },
  {
   "cell_type": "code",
   "execution_count": 28,
   "metadata": {},
   "outputs": [
    {
     "name": "stdout",
     "output_type": "stream",
     "text": [
      "<class 'pandas.core.frame.DataFrame'>\n",
      "RangeIndex: 4896 entries, 0 to 4895\n",
      "Data columns (total 12 columns):\n",
      "fixed acidity           4891 non-null float64\n",
      "volatile acidity        4890 non-null float64\n",
      "citric acid             4842 non-null float64\n",
      "residual sugar          4885 non-null float64\n",
      "chlorides               4889 non-null float64\n",
      "free sulfur dioxide     4887 non-null float64\n",
      "total sulfur dioxide    4888 non-null float64\n",
      "density                 4889 non-null float64\n",
      "pH                      4889 non-null float64\n",
      "sulphates               4891 non-null float64\n",
      "alcohol                 4889 non-null float64\n",
      "quality                 4882 non-null float32\n",
      "dtypes: float32(1), float64(11)\n",
      "memory usage: 440.0 KB\n"
     ]
    }
   ],
   "source": [
    "df.info()"
   ]
  },
  {
   "cell_type": "code",
   "execution_count": 29,
   "metadata": {},
   "outputs": [],
   "source": [
    "# drop all rows that have less then 9 non-null entries to get true entries in the dataset\n",
    "df = df.dropna(thresh=9)"
   ]
  },
  {
   "cell_type": "code",
   "execution_count": 30,
   "metadata": {},
   "outputs": [
    {
     "name": "stdout",
     "output_type": "stream",
     "text": [
      "<class 'pandas.core.frame.DataFrame'>\n",
      "Int64Index: 4888 entries, 0 to 4895\n",
      "Data columns (total 12 columns):\n",
      "fixed acidity           4888 non-null float64\n",
      "volatile acidity        4887 non-null float64\n",
      "citric acid             4840 non-null float64\n",
      "residual sugar          4884 non-null float64\n",
      "chlorides               4887 non-null float64\n",
      "free sulfur dioxide     4886 non-null float64\n",
      "total sulfur dioxide    4887 non-null float64\n",
      "density                 4888 non-null float64\n",
      "pH                      4887 non-null float64\n",
      "sulphates               4888 non-null float64\n",
      "alcohol                 4888 non-null float64\n",
      "quality                 4879 non-null float32\n",
      "dtypes: float32(1), float64(11)\n",
      "memory usage: 477.3 KB\n"
     ]
    }
   ],
   "source": [
    "df.info()"
   ]
  },
  {
   "cell_type": "code",
   "execution_count": 31,
   "metadata": {},
   "outputs": [
    {
     "data": {
      "text/plain": [
       "fixed acidity             6.855043\n",
       "volatile acidity          0.278266\n",
       "citric acid               0.334304\n",
       "residual sugar            6.396263\n",
       "chlorides                 0.045780\n",
       "free sulfur dioxide      35.330536\n",
       "total sulfur dioxide    138.413239\n",
       "density                   0.994029\n",
       "pH                        3.188120\n",
       "sulphates                 0.489822\n",
       "alcohol                  10.514214\n",
       "quality                   5.892806\n",
       "dtype: float64"
      ]
     },
     "execution_count": 31,
     "metadata": {},
     "output_type": "execute_result"
    }
   ],
   "source": [
    "#calculate mean of all the columns\n",
    "df.mean()"
   ]
  },
  {
   "cell_type": "code",
   "execution_count": 32,
   "metadata": {},
   "outputs": [],
   "source": [
    "#fill null entries with the mean of entries of each column for better predicted results later\n",
    "df = df.fillna(df.mean())"
   ]
  },
  {
   "cell_type": "code",
   "execution_count": 33,
   "metadata": {
    "scrolled": true
   },
   "outputs": [
    {
     "name": "stdout",
     "output_type": "stream",
     "text": [
      "<class 'pandas.core.frame.DataFrame'>\n",
      "Int64Index: 4888 entries, 0 to 4895\n",
      "Data columns (total 12 columns):\n",
      "fixed acidity           4888 non-null float64\n",
      "volatile acidity        4888 non-null float64\n",
      "citric acid             4888 non-null float64\n",
      "residual sugar          4888 non-null float64\n",
      "chlorides               4888 non-null float64\n",
      "free sulfur dioxide     4888 non-null float64\n",
      "total sulfur dioxide    4888 non-null float64\n",
      "density                 4888 non-null float64\n",
      "pH                      4888 non-null float64\n",
      "sulphates               4888 non-null float64\n",
      "alcohol                 4888 non-null float64\n",
      "quality                 4888 non-null float32\n",
      "dtypes: float32(1), float64(11)\n",
      "memory usage: 477.3 KB\n"
     ]
    }
   ],
   "source": [
    "df.info()"
   ]
  },
  {
   "cell_type": "code",
   "execution_count": 34,
   "metadata": {},
   "outputs": [
    {
     "name": "stdout",
     "output_type": "stream",
     "text": [
      "4008\n"
     ]
    }
   ],
   "source": [
    "print(len(df.drop_duplicates()))"
   ]
  },
  {
   "cell_type": "markdown",
   "metadata": {},
   "source": [
    "There are 4008 unique wines after data cleaning.\n",
    "There are 4888 non-null entries in each column after initial data cleaning."
   ]
  },
  {
   "cell_type": "markdown",
   "metadata": {},
   "source": [
    "***"
   ]
  },
  {
   "cell_type": "markdown",
   "metadata": {},
   "source": [
    "**--------------------------------------------------- 2. VISUALIZING THE DATA ------------------------------------------------------**"
   ]
  },
  {
   "cell_type": "markdown",
   "metadata": {},
   "source": [
    "***"
   ]
  },
  {
   "cell_type": "code",
   "execution_count": 35,
   "metadata": {},
   "outputs": [
    {
     "name": "stderr",
     "output_type": "stream",
     "text": [
      "/Users/ankita/opt/anaconda3/lib/python3.7/site-packages/ipykernel_launcher.py:6: UserWarning: To output multiple subplots, the figure containing the passed axes is being cleared\n",
      "  \n"
     ]
    },
    {
     "data": {
      "image/png": "[encoded data removed]",
      "text/plain": [
       "<Figure size 864x864 with 12 Axes>"
      ]
     },
     "metadata": {
      "needs_background": "light"
     },
     "output_type": "display_data"
    }
   ],
   "source": [
    "#plot frequency histograms of each attribute in the data set\n",
    "#x axis:values, y axis:frequency\n",
    "\n",
    "fig = plt.figure(figsize = (12,12))\n",
    "ax = fig.gca()\n",
    "df.hist(ax=ax,edgecolor='black',facecolor='orange',bins=12,linewidth = 1.3)\n",
    "plt.show()"
   ]
  },
  {
   "cell_type": "markdown",
   "metadata": {},
   "source": [
    "### Observations\n",
    "\n",
    "- Rightskewed: assymetrical distribution,as value increases frequency increases at first,then unsymmetrically decreases\n",
    "- Normal: symmetrical distribution,first frequency increases till middle value is reached then symmetrically frequency decreases\n"
   ]
  },
  {
   "cell_type": "code",
   "execution_count": null,
   "metadata": {},
   "outputs": [],
   "source": [
    "#alcohol             - right skewed distribution\n",
    "#chloride            - right skewed distribution\n",
    "#citric acid         - right skewed distribution\n",
    "#density             - normal distribution\n",
    "#fixed acidity       - normal distribution\n",
    "#free sulfur dioxide - right skewed distribution\n",
    "#pH                  - normal distribution\n",
    "#quality             - normal distribution\n",
    "#residual sugar      - right skewed distribution\n",
    "#sulphates           - right skewed distribution\n",
    "#total sulfur dioxide-normal distribution\n",
    "#volatile acidity    -right skewed distribution"
   ]
  },
  {
   "cell_type": "code",
   "execution_count": 36,
   "metadata": {},
   "outputs": [
    {
     "data": {
      "text/plain": [
       "fixed acidity          -0.101936\n",
       "volatile acidity       -0.184536\n",
       "citric acid            -0.005667\n",
       "residual sugar         -0.088719\n",
       "chlorides              -0.201222\n",
       "free sulfur dioxide     0.005698\n",
       "total sulfur dioxide   -0.161287\n",
       "density                -0.289161\n",
       "pH                      0.089115\n",
       "sulphates               0.049302\n",
       "alcohol                 0.414487\n",
       "Name: quality, dtype: float64"
      ]
     },
     "execution_count": 36,
     "metadata": {},
     "output_type": "execute_result"
    }
   ],
   "source": [
    "correlation = df.corr()['quality'].drop('quality')\n",
    "correlation"
   ]
  },
  {
   "cell_type": "code",
   "execution_count": 37,
   "metadata": {},
   "outputs": [
    {
     "data": {
      "image/png": "[encoded data removed]",
      "text/plain": [
       "<Figure size 432x288 with 2 Axes>"
      ]
     },
     "metadata": {
      "needs_background": "light"
     },
     "output_type": "display_data"
    }
   ],
   "source": [
    "#plot a heatmap between correlations\n",
    "sns.heatmap(df.corr(), annot=True)\n",
    "plt.show()"
   ]
  },
  {
   "cell_type": "code",
   "execution_count": 38,
   "metadata": {},
   "outputs": [
    {
     "data": {
      "text/plain": [
       "fixed acidity           False\n",
       "volatile acidity        False\n",
       "citric acid             False\n",
       "residual sugar          False\n",
       "chlorides                True\n",
       "free sulfur dioxide     False\n",
       "total sulfur dioxide    False\n",
       "density                  True\n",
       "pH                      False\n",
       "sulphates               False\n",
       "alcohol                  True\n",
       "Name: quality, dtype: bool"
      ]
     },
     "execution_count": 38,
     "metadata": {},
     "output_type": "execute_result"
    }
   ],
   "source": [
    "abs(correlation) >= 0.2"
   ]
  },
  {
   "cell_type": "markdown",
   "metadata": {},
   "source": [
    "#### chlorides,density,alcohol most correlated to quality of wine\n",
    "- corr with chloride = -0.201222\n",
    "- corr with density  = -0.289161\n",
    "- corr with alcohol  =  0.414487"
   ]
  },
  {
   "cell_type": "code",
   "execution_count": 39,
   "metadata": {},
   "outputs": [
    {
     "data": {
      "image/png": "[encoded data removed]",
      "text/plain": [
       "<Figure size 432x288 with 1 Axes>"
      ]
     },
     "metadata": {
      "needs_background": "light"
     },
     "output_type": "display_data"
    }
   ],
   "source": [
    "plt.scatter('quality','chlorides', data=df,color='mediumpurple')\n",
    "plt.xlabel(\"quality\")\n",
    "plt.ylabel(\"chlorides\")\n",
    "plt.title(\"Plot 1: Plot of quality and chloride\")\n",
    "plt.show()"
   ]
  },
  {
   "cell_type": "markdown",
   "metadata": {},
   "source": [
    "### Observation\n",
    "#### Plot 1\n",
    "- First there is a some positive relationship between quality of wine and alcohol \n",
    "- After quality is 5 there is a downward slope so there is a negative relationship between the two variables\n",
    "- Most wines with high chlorides have a quality of 5\n",
    "- When cloride content is low,quality is high\n",
    "- wines have chlorides content ranging from ~0.01 to 0.36"
   ]
  },
  {
   "cell_type": "code",
   "execution_count": 40,
   "metadata": {},
   "outputs": [
    {
     "data": {
      "image/png": "[encoded data removed]",
      "text/plain": [
       "<Figure size 432x288 with 1 Axes>"
      ]
     },
     "metadata": {
      "needs_background": "light"
     },
     "output_type": "display_data"
    }
   ],
   "source": [
    "plt.scatter('quality','density', data=df,color='mediumvioletred')\n",
    "plt.xlabel(\"quality\")\n",
    "plt.ylabel(\"density\")\n",
    "plt.title(\"Plot 2: Plot of quality and density\")\n",
    "plt.show()"
   ]
  },
  {
   "cell_type": "markdown",
   "metadata": {},
   "source": [
    "### Observation\n",
    "#### Plot 2\n",
    "- Density of most wines lies between ~0.99 to 1.01 \n",
    "- Wines with high density have a quality of 6\n",
    "- There is a negative relationship between the density and quality\n",
    "- When density is low,quality is high"
   ]
  },
  {
   "cell_type": "code",
   "execution_count": 41,
   "metadata": {},
   "outputs": [
    {
     "data": {
      "image/png": "[encoded data removed]",
      "text/plain": [
       "<Figure size 432x288 with 1 Axes>"
      ]
     },
     "metadata": {
      "needs_background": "light"
     },
     "output_type": "display_data"
    }
   ],
   "source": [
    "plt.scatter('quality','alcohol', data=df,color='indigo')\n",
    "plt.xlabel(\"quality\")\n",
    "plt.ylabel(\"alcohol\")\n",
    "plt.title(\"Plot 3: Plot of quality and alcohol\")\n",
    "plt.show()"
   ]
  },
  {
   "cell_type": "markdown",
   "metadata": {},
   "source": [
    "### Observation\n",
    "#### Plot 3\n",
    "- As alcohol content increases,quality of wine increases\n",
    "- There is a positive relationship between quality of wine and alcohol,when alcohol content increases,quality of wine increases\n",
    "- Wines have alcohol content ranging from ~7 to 15"
   ]
  },
  {
   "cell_type": "markdown",
   "metadata": {},
   "source": [
    "***"
   ]
  },
  {
   "cell_type": "markdown",
   "metadata": {},
   "source": [
    "**---------------------------------------------------------------- 3. TRAIN TEST SPLIT --------------------------------------------------------------**"
   ]
  },
  {
   "cell_type": "markdown",
   "metadata": {},
   "source": [
    "***"
   ]
  },
  {
   "cell_type": "code",
   "execution_count": 42,
   "metadata": {},
   "outputs": [],
   "source": [
    "#splitting data into training and testing sets, 20% of the data is test data, and remaining 80% is training data\n",
    "train_set, test_set = train_test_split(df, test_size=0.2, random_state=42)\n",
    "\n",
    "X_train = train_set.drop([\"quality\"], axis=1)   # training features\n",
    "y_train = train_set[\"quality\"].copy()           # training label\n",
    "X_test = test_set.drop([\"quality\"], axis=1)     # testing features\n",
    "y_test =  test_set[\"quality\"].copy()            # testing label"
   ]
  },
  {
   "cell_type": "code",
   "execution_count": 43,
   "metadata": {},
   "outputs": [
    {
     "name": "stdout",
     "output_type": "stream",
     "text": [
      "(3910, 11) (3910,)\n",
      "(978, 11) (978,)\n"
     ]
    }
   ],
   "source": [
    "print(X_train.shape, y_train.shape)\n",
    "print(X_test.shape, y_test.shape)"
   ]
  },
  {
   "cell_type": "code",
   "execution_count": 57,
   "metadata": {},
   "outputs": [
    {
     "data": {
      "text/plain": [
       "6.0"
      ]
     },
     "execution_count": 57,
     "metadata": {},
     "output_type": "execute_result"
    }
   ],
   "source": [
    "#calculate median of quality \n",
    "median_quality = y_train.median()\n",
    "median_quality"
   ]
  },
  {
   "cell_type": "code",
   "execution_count": 58,
   "metadata": {},
   "outputs": [
    {
     "name": "stdout",
     "output_type": "stream",
     "text": [
      "rmse value:  0.9725258061826707\n"
     ]
    }
   ],
   "source": [
    "print(\"rmse value: \",np.sqrt(np.mean((y_train - y_train.median())**2)))"
   ]
  },
  {
   "cell_type": "markdown",
   "metadata": {},
   "source": [
    "- Rmse when median quality value is the predictor is 0.97252584\n",
    "\n",
    "- Regression and classification are categorised under supervised machine-learning and Classification is the method of predicting a discrete class label\n",
    "\n",
    "- Regression predictions can be evaluated using root mean squared error while classification predictions cannot\n",
    "\n",
    "- We should use regression here because the variable quality which we want to predict is a continous variable"
   ]
  },
  {
   "cell_type": "markdown",
   "metadata": {},
   "source": [
    "***"
   ]
  },
  {
   "cell_type": "markdown",
   "metadata": {},
   "source": [
    "**----------------------------------------- 4. DATA MODELLING AND VISUALISING ACTUAL AND PREDICTED DATA ----------------------------------------**"
   ]
  },
  {
   "cell_type": "markdown",
   "metadata": {},
   "source": [
    "***"
   ]
  },
  {
   "cell_type": "markdown",
   "metadata": {},
   "source": [
    "#### 1. LINEAR REGRESSION MODEL"
   ]
  },
  {
   "cell_type": "code",
   "execution_count": 46,
   "metadata": {},
   "outputs": [
    {
     "data": {
      "text/plain": [
       "array([ 8.87288939e-02, -1.99690251e+00,  3.17647318e-02,  9.16409136e-02,\n",
       "        3.74002225e-01,  3.10229001e-03,  1.71813594e-04, -1.68247214e+02,\n",
       "        7.20829463e-01,  6.92319365e-01,  1.94864263e-01])"
      ]
     },
     "execution_count": 46,
     "metadata": {},
     "output_type": "execute_result"
    }
   ],
   "source": [
    "import sklearn\n",
    "from sklearn.linear_model import LinearRegression\n",
    "\n",
    "reg = linear_model.LinearRegression()\n",
    "model1 = reg.fit(X_train,y_train)\n",
    "reg.coef_"
   ]
  },
  {
   "cell_type": "code",
   "execution_count": 60,
   "metadata": {},
   "outputs": [
    {
     "data": {
      "text/plain": [
       "0.8370730990199982"
      ]
     },
     "execution_count": 60,
     "metadata": {},
     "output_type": "execute_result"
    }
   ],
   "source": [
    "#predict value of quality on the training set\n",
    "y1_pred = reg.predict(X_train)\n",
    "\n",
    "#caculate root mean square error\n",
    "rmse1 = np.sqrt(metrics.mean_squared_error(y1_pred,y_train))\n",
    "rmse1"
   ]
  },
  {
   "cell_type": "code",
   "execution_count": 61,
   "metadata": {},
   "outputs": [
    {
     "data": {
      "text/html": [
       "<div>\n",
       "<style scoped>\n",
       "    .dataframe tbody tr th:only-of-type {\n",
       "        vertical-align: middle;\n",
       "    }\n",
       "\n",
       "    .dataframe tbody tr th {\n",
       "        vertical-align: top;\n",
       "    }\n",
       "\n",
       "    .dataframe thead th {\n",
       "        text-align: right;\n",
       "    }\n",
       "</style>\n",
       "<table border=\"1\" class=\"dataframe\">\n",
       "  <thead>\n",
       "    <tr style=\"text-align: right;\">\n",
       "      <th></th>\n",
       "      <th>Actual</th>\n",
       "      <th>Predicted</th>\n",
       "    </tr>\n",
       "  </thead>\n",
       "  <tbody>\n",
       "    <tr>\n",
       "      <td>4003</td>\n",
       "      <td>7.0</td>\n",
       "      <td>6.364437</td>\n",
       "    </tr>\n",
       "    <tr>\n",
       "      <td>2618</td>\n",
       "      <td>7.0</td>\n",
       "      <td>6.243907</td>\n",
       "    </tr>\n",
       "    <tr>\n",
       "      <td>3091</td>\n",
       "      <td>6.0</td>\n",
       "      <td>5.822468</td>\n",
       "    </tr>\n",
       "    <tr>\n",
       "      <td>3981</td>\n",
       "      <td>7.0</td>\n",
       "      <td>6.667679</td>\n",
       "    </tr>\n",
       "    <tr>\n",
       "      <td>4052</td>\n",
       "      <td>7.0</td>\n",
       "      <td>5.644099</td>\n",
       "    </tr>\n",
       "  </tbody>\n",
       "</table>\n",
       "</div>"
      ],
      "text/plain": [
       "      Actual  Predicted\n",
       "4003     7.0   6.364437\n",
       "2618     7.0   6.243907\n",
       "3091     6.0   5.822468\n",
       "3981     7.0   6.667679\n",
       "4052     7.0   5.644099"
      ]
     },
     "execution_count": 61,
     "metadata": {},
     "output_type": "execute_result"
    }
   ],
   "source": [
    "df_lin = pd.DataFrame({'Actual': y_train, 'Predicted': y1_pred})\n",
    "df_lin.head()"
   ]
  },
  {
   "cell_type": "code",
   "execution_count": 58,
   "metadata": {},
   "outputs": [
    {
     "data": {
      "image/png": "[encoded data removed]",
      "text/plain": [
       "<Figure size 864x432 with 1 Axes>"
      ]
     },
     "metadata": {
      "needs_background": "light"
     },
     "output_type": "display_data"
    }
   ],
   "source": [
    "#plot of true values and predicted values\n",
    "df_lin.plot(kind='bar',figsize=(12,6))\n",
    "plt.ylabel('quality')\n",
    "plt.title(\"Linear Regression\")\n",
    "plt.show()"
   ]
  },
  {
   "cell_type": "code",
   "execution_count": 62,
   "metadata": {},
   "outputs": [
    {
     "data": {
      "image/png": "[encoded data removed]",
      "text/plain": [
       "<Figure size 432x288 with 1 Axes>"
      ]
     },
     "metadata": {
      "needs_background": "light"
     },
     "output_type": "display_data"
    }
   ],
   "source": [
    "#plot of true values, predicted values and errors#\n",
    "\n",
    "#let true value be representes as blue dots\n",
    "plt.plot(y_train,'bo')\n",
    "\n",
    "#let predicted value be represented as red squares\n",
    "plt.plot(y1_pred,'rs')\n",
    "\n",
    "#let error value be represented as green triangles\n",
    "plt.plot(y_train-y1_pred,'g^')\n",
    "\n",
    "plt.title(\"Plot of true values, predicted values and errors\")\n",
    "plt.show()"
   ]
  },
  {
   "cell_type": "markdown",
   "metadata": {},
   "source": [
    "#### 2. K-NEAREST NEIGHBOUR REGRESSION MODEL\n"
   ]
  },
  {
   "cell_type": "code",
   "execution_count": 63,
   "metadata": {},
   "outputs": [
    {
     "data": {
      "text/plain": [
       "0.7341590726230895"
      ]
     },
     "execution_count": 63,
     "metadata": {},
     "output_type": "execute_result"
    }
   ],
   "source": [
    "from sklearn.neighbors import KNeighborsRegressor\n",
    "\n",
    "# N = 5 #\n",
    "neigh = KNeighborsRegressor(n_neighbors = 5)\n",
    "neigh.fit(X_train,y_train)\n",
    "\n",
    "#predict value of quality on the training set\n",
    "y2_pred = neigh.predict(X_train)\n",
    "\n",
    "#caculate root mean square error\n",
    "rmse2 = sqrt(mean_squared_error(y2_pred,y_train))\n",
    "rmse2"
   ]
  },
  {
   "cell_type": "code",
   "execution_count": 64,
   "metadata": {},
   "outputs": [
    {
     "data": {
      "text/plain": [
       "0.7703015881862361"
      ]
     },
     "execution_count": 64,
     "metadata": {},
     "output_type": "execute_result"
    }
   ],
   "source": [
    "# N = 7 #\n",
    "neigh1 = KNeighborsRegressor(n_neighbors = 7)\n",
    "neigh1.fit(X_train,y_train)\n",
    "\n",
    "#predict value of quality on the training set\n",
    "y3_pred = neigh1.predict(X_train)\n",
    "\n",
    "#caculate root mean square error\n",
    "sqrt(mean_squared_error(y3_pred,y_train))"
   ]
  },
  {
   "cell_type": "code",
   "execution_count": 65,
   "metadata": {},
   "outputs": [
    {
     "data": {
      "text/plain": [
       "0.8028360566944415"
      ]
     },
     "execution_count": 65,
     "metadata": {},
     "output_type": "execute_result"
    }
   ],
   "source": [
    "# N = 10 #\n",
    "neigh2 = KNeighborsRegressor(n_neighbors = 10)\n",
    "neigh2.fit(X_train,y_train)\n",
    "\n",
    "#predict value of quality on the training set\n",
    "y4_pred = neigh2.predict(X_train)\n",
    "\n",
    "#caculate root mean square error\n",
    "sqrt(mean_squared_error(y4_pred,y_train))"
   ]
  },
  {
   "cell_type": "code",
   "execution_count": 66,
   "metadata": {},
   "outputs": [
    {
     "data": {
      "text/plain": [
       "0.8328585384733905"
      ]
     },
     "execution_count": 66,
     "metadata": {},
     "output_type": "execute_result"
    }
   ],
   "source": [
    "# N = 15 #\n",
    "neigh3 = KNeighborsRegressor(n_neighbors = 15)\n",
    "neigh3.fit(X_train,y_train)\n",
    "\n",
    "#predict value of quality on the training set\n",
    "y5_pred = neigh3.predict(X_train)\n",
    "\n",
    "#caculate root mean square error\n",
    "sqrt(mean_squared_error(y5_pred,y_train))"
   ]
  },
  {
   "cell_type": "markdown",
   "metadata": {},
   "source": [
    "Note: rmse increases when values of k(no. of neighbours) increase "
   ]
  },
  {
   "cell_type": "code",
   "execution_count": null,
   "metadata": {},
   "outputs": [],
   "source": [
    "#plot of true values and predicted values\n",
    "df_knn = pd.DataFrame({'Actual': y_train, 'Predicted': y2_pred})\n",
    "\n",
    "df_knn.plot(kind='bar',figsize=(12,6))\n",
    "plt.ylabel('quality')\n",
    "plt.title(\"K-Nearest Neighbour\")\n",
    "plt.show()"
   ]
  },
  {
   "cell_type": "code",
   "execution_count": null,
   "metadata": {},
   "outputs": [],
   "source": [
    "#plot of true values, predicted values and errors\n",
    "plt.plot(y_train,'bo')\n",
    "plt.plot(y2_pred,'rs')\n",
    "plt.plot(y_train-y2_pred,'g^')\n",
    "\n",
    "plt.title(\"Plot of true values, predicted values and errors\")\n",
    "plt.show()"
   ]
  },
  {
   "cell_type": "markdown",
   "metadata": {},
   "source": [
    "#### 3. DESCISION TREE MODEL"
   ]
  },
  {
   "cell_type": "code",
   "execution_count": 128,
   "metadata": {},
   "outputs": [],
   "source": [
    "from sklearn import tree"
   ]
  },
  {
   "cell_type": "code",
   "execution_count": 129,
   "metadata": {},
   "outputs": [],
   "source": [
    "tree_regr1 = tree.DecisionTreeRegressor(max_depth = 2)\n",
    "tree_regr2 = tree.DecisionTreeRegressor(max_depth = 5)\n",
    "\n",
    "#fit the traning data to a descision tree model\n",
    "tree_regr11 = tree_regr1.fit(X_train,y_train)\n",
    "tree_regr12 = tree_regr2.fit(X_train,y_train)\n",
    "\n",
    "#predict value of quality on the training set\n",
    "z11 = tree_regr1.predict(X_train)\n",
    "z12 = tree_regr2.predict(X_train)"
   ]
  },
  {
   "cell_type": "code",
   "execution_count": 130,
   "metadata": {},
   "outputs": [
    {
     "data": {
      "text/plain": [
       "0.8571428352231814"
      ]
     },
     "execution_count": 130,
     "metadata": {},
     "output_type": "execute_result"
    }
   ],
   "source": [
    "#caculate root mean square error\n",
    "rmse31 = sqrt(mean_squared_error(z11,y_train))\n",
    "rmse31\n"
   ]
  },
  {
   "cell_type": "code",
   "execution_count": 131,
   "metadata": {},
   "outputs": [
    {
     "data": {
      "text/plain": [
       "0.7877537186473644"
      ]
     },
     "execution_count": 131,
     "metadata": {},
     "output_type": "execute_result"
    }
   ],
   "source": [
    "rmse32 = sqrt(mean_squared_error(z12,y_train))\n",
    "rmse32"
   ]
  },
  {
   "cell_type": "code",
   "execution_count": 132,
   "metadata": {},
   "outputs": [
    {
     "data": {
      "image/png": "[encoded data removed]",
      "text/plain": [
       "<Figure size 864x432 with 1 Axes>"
      ]
     },
     "metadata": {
      "needs_background": "light"
     },
     "output_type": "display_data"
    }
   ],
   "source": [
    "#plot of true values and predicted values#\n",
    "\n",
    "df_tree = pd.DataFrame({'Actual': y_train, 'Predicted': z12})\n",
    "df_knn.plot(kind='bar',figsize=(12,6))\n",
    "\n",
    "plt.ylabel('quality')\n",
    "plt.title(\"Decision tree Regression\")\n",
    "plt.show()"
   ]
  },
  {
   "cell_type": "code",
   "execution_count": 133,
   "metadata": {},
   "outputs": [
    {
     "data": {
      "image/png": "[encoded data removed]",
      "text/plain": [
       "<Figure size 432x288 with 1 Axes>"
      ]
     },
     "metadata": {
      "needs_background": "light"
     },
     "output_type": "display_data"
    }
   ],
   "source": [
    "#plot of true values, predicted values and errors#\n",
    "\n",
    "plt.plot(y_train,'bo')\n",
    "plt.plot(z12,'rs')\n",
    "plt.plot(y_train-z12,'g^')\n",
    "\n",
    "plt.title(\"Plot of true values, predicted values and errors\")\n",
    "plt.show()"
   ]
  },
  {
   "cell_type": "markdown",
   "metadata": {},
   "source": [
    "### Observations"
   ]
  },
  {
   "cell_type": "code",
   "execution_count": 2,
   "metadata": {},
   "outputs": [],
   "source": [
    "# RMSE:\n",
    "#rmse of linear reg                        : 0.8370730990199984\n",
    "#rmse of k-nearest neighbour(lowest:k=5)   : 0.7341590726230895\n",
    "#rmse of decesion tree(lowest:maxdepth=5)  : 0.7877537186473644\n",
    "\n",
    "#Plot:\n",
    "#Mostly all predicted values lie between 4 to 8 range \n",
    "#Wheras original values lie between 3 to 9 range\n",
    "#Errors mostly lie between -2 to 2 range\n",
    "\n",
    "#How errors compare:\n",
    "#The lowest error is of k-nearest neighbour model and largest is of linear regression\n",
    "#Neighbors regression works well in cases where the data labels are continuous rather than discrete\n",
    "#k-nearest neighbour might perform better for the test set\n"
   ]
  },
  {
   "cell_type": "markdown",
   "metadata": {},
   "source": [
    "***"
   ]
  },
  {
   "cell_type": "markdown",
   "metadata": {},
   "source": [
    "**-------------------------------------------------------------------- 5. CROSS VALIDATION ----------------------------------------------------------------**"
   ]
  },
  {
   "cell_type": "markdown",
   "metadata": {},
   "source": [
    "***"
   ]
  },
  {
   "cell_type": "markdown",
   "metadata": {},
   "source": [
    "##### CROSS VALIDATION\n",
    "- done to avoid underfitting/overfitting of data and to get a better understanging of how good our models are performing\n",
    "- split  data into k subsets, and train on k-1 of those subset,leaving one for testing\n",
    "- performing 10-fold cross validation for each model#"
   ]
  },
  {
   "cell_type": "markdown",
   "metadata": {},
   "source": [
    "#### 1 LINEAR REGRESSION MODEL"
   ]
  },
  {
   "cell_type": "code",
   "execution_count": 60,
   "metadata": {},
   "outputs": [
    {
     "data": {
      "text/plain": [
       "array([-0.61778693, -0.59314161, -0.63525385, -0.67418737, -0.6016719 ,\n",
       "       -0.66572714, -0.62824801, -0.63266254, -0.61708604, -0.62818339])"
      ]
     },
     "execution_count": 60,
     "metadata": {},
     "output_type": "execute_result"
    }
   ],
   "source": [
    "clf1 = LinearRegression()\n",
    "\n",
    "#calculating cross validation score with scoring set to negative mean absolute error\n",
    "scores_1 = cross_val_score(clf1, X_train,y_train, cv=10,scoring='neg_mean_absolute_error')\n",
    "scores_1"
   ]
  },
  {
   "cell_type": "code",
   "execution_count": 61,
   "metadata": {},
   "outputs": [
    {
     "data": {
      "text/plain": [
       "array([0.61778693, 0.59314161, 0.63525385, 0.67418737, 0.6016719 ,\n",
       "       0.66572714, 0.62824801, 0.63266254, 0.61708604, 0.62818339])"
      ]
     },
     "execution_count": 61,
     "metadata": {},
     "output_type": "execute_result"
    }
   ],
   "source": [
    "#calculating absolute value\n",
    "scores_lin = -scores_1\n",
    "scores_lin"
   ]
  },
  {
   "cell_type": "code",
   "execution_count": 62,
   "metadata": {},
   "outputs": [
    {
     "data": {
      "text/plain": [
       "0.6293948781847534"
      ]
     },
     "execution_count": 62,
     "metadata": {},
     "output_type": "execute_result"
    }
   ],
   "source": [
    "#calculate mean of scores for better understanding the accuracy\n",
    "mean1 = np.mean(scores_lin)\n",
    "mean1"
   ]
  },
  {
   "cell_type": "markdown",
   "metadata": {},
   "source": [
    "#### 2 K-NEAREST NEIGHBOUR REGRESSION MODEL"
   ]
  },
  {
   "cell_type": "code",
   "execution_count": null,
   "metadata": {},
   "outputs": [],
   "source": [
    "clf2 = neigh2\n",
    "\n",
    "#calculating cross validation score with scoring set to negative mean absolute error\n",
    "scores_2 = cross_val_score(clf2, X_train, y_train, cv=10,scoring='neg_mean_absolute_error')\n",
    "scores_2"
   ]
  },
  {
   "cell_type": "code",
   "execution_count": 85,
   "metadata": {},
   "outputs": [],
   "source": [
    "#calculating absolute value\n",
    "scores_k = -scores_2"
   ]
  },
  {
   "cell_type": "code",
   "execution_count": 86,
   "metadata": {},
   "outputs": [
    {
     "data": {
      "text/plain": [
       "0.6846538484096527"
      ]
     },
     "execution_count": 86,
     "metadata": {},
     "output_type": "execute_result"
    }
   ],
   "source": [
    "#calculate mean of scores for better understanding the accuracy\n",
    "mean2 = np.mean(scores_k)\n",
    "mean2"
   ]
  },
  {
   "cell_type": "markdown",
   "metadata": {},
   "source": [
    "#### 3 DESCISION TREE MODEL"
   ]
  },
  {
   "cell_type": "code",
   "execution_count": 90,
   "metadata": {},
   "outputs": [
    {
     "data": {
      "text/plain": [
       "array([-0.59816286, -0.5839611 , -0.62032227, -0.68073531, -0.62030119,\n",
       "       -0.63890088, -0.62707998, -0.61277456, -0.62866451, -0.63058695])"
      ]
     },
     "execution_count": 90,
     "metadata": {},
     "output_type": "execute_result"
    }
   ],
   "source": [
    "clf3 = tree_regr2\n",
    "\n",
    "#calculating cross validation score with scoring set to negative mean absolute error\n",
    "scores_3 = cross_val_score(clf3, X_train, y_train, cv=10,scoring='neg_mean_absolute_error')\n",
    "scores_3"
   ]
  },
  {
   "cell_type": "code",
   "execution_count": 91,
   "metadata": {},
   "outputs": [],
   "source": [
    "#calculating absolute value\n",
    "scores_tree = -scores_3"
   ]
  },
  {
   "cell_type": "code",
   "execution_count": 92,
   "metadata": {},
   "outputs": [
    {
     "data": {
      "text/plain": [
       "0.6241489592100825"
      ]
     },
     "execution_count": 92,
     "metadata": {},
     "output_type": "execute_result"
    }
   ],
   "source": [
    "#calculate mean of scores for better understanding the accuracy\n",
    "mean3 = np.mean(scores_tree)\n",
    "mean3"
   ]
  },
  {
   "cell_type": "markdown",
   "metadata": {},
   "source": [
    "### Observation"
   ]
  },
  {
   "cell_type": "code",
   "execution_count": null,
   "metadata": {},
   "outputs": [],
   "source": [
    "\n",
    "#cv score for linear                  : 0.6293948781847534\n",
    "#cv score for k-nearest neighbour     : 0.6846538484096527\n",
    "#cv score for decision tree           : 0.6241489592100825\n",
    "\n",
    "#rmse of linear reg                        : 0.8370730990199984\n",
    "#rmse of k-nearest neighbour(lowest:k=5)   : 0.7341590726230895\n",
    "#rmse of decesion tree(lowest:maxdepth=5)  : 0.7877537186473644\n",
    "\n",
    "#BEST MODEL: Decision Tree based on cv score\n",
    "#because it has the lowest mean absolute error of 0.62414"
   ]
  },
  {
   "cell_type": "markdown",
   "metadata": {},
   "source": [
    "***"
   ]
  },
  {
   "cell_type": "markdown",
   "metadata": {},
   "source": [
    "**----------------------------------------------------------- 6. SCALING AND FINAL MODEL -----------------------------------------------------------------------**"
   ]
  },
  {
   "cell_type": "markdown",
   "metadata": {},
   "source": [
    "***"
   ]
  },
  {
   "cell_type": "code",
   "execution_count": 95,
   "metadata": {},
   "outputs": [
    {
     "data": {
      "text/html": [
       "<div>\n",
       "<style scoped>\n",
       "    .dataframe tbody tr th:only-of-type {\n",
       "        vertical-align: middle;\n",
       "    }\n",
       "\n",
       "    .dataframe tbody tr th {\n",
       "        vertical-align: top;\n",
       "    }\n",
       "\n",
       "    .dataframe thead th {\n",
       "        text-align: right;\n",
       "    }\n",
       "</style>\n",
       "<table border=\"1\" class=\"dataframe\">\n",
       "  <thead>\n",
       "    <tr style=\"text-align: right;\">\n",
       "      <th></th>\n",
       "      <th>fixed acidity</th>\n",
       "      <th>volatile acidity</th>\n",
       "      <th>citric acid</th>\n",
       "      <th>residual sugar</th>\n",
       "      <th>chlorides</th>\n",
       "      <th>free sulfur dioxide</th>\n",
       "      <th>total sulfur dioxide</th>\n",
       "      <th>density</th>\n",
       "      <th>pH</th>\n",
       "      <th>sulphates</th>\n",
       "      <th>alcohol</th>\n",
       "      <th>quality</th>\n",
       "    </tr>\n",
       "  </thead>\n",
       "  <tbody>\n",
       "    <tr>\n",
       "      <th>0</th>\n",
       "      <td>7.0</td>\n",
       "      <td>0.27</td>\n",
       "      <td>0.36</td>\n",
       "      <td>20.7</td>\n",
       "      <td>0.045</td>\n",
       "      <td>45.0</td>\n",
       "      <td>170.0</td>\n",
       "      <td>1.0010</td>\n",
       "      <td>3.00</td>\n",
       "      <td>0.45</td>\n",
       "      <td>8.8</td>\n",
       "      <td>6.0</td>\n",
       "    </tr>\n",
       "    <tr>\n",
       "      <th>1</th>\n",
       "      <td>6.3</td>\n",
       "      <td>0.30</td>\n",
       "      <td>0.34</td>\n",
       "      <td>1.6</td>\n",
       "      <td>0.049</td>\n",
       "      <td>14.0</td>\n",
       "      <td>132.0</td>\n",
       "      <td>0.9940</td>\n",
       "      <td>3.30</td>\n",
       "      <td>0.49</td>\n",
       "      <td>9.5</td>\n",
       "      <td>6.0</td>\n",
       "    </tr>\n",
       "    <tr>\n",
       "      <th>2</th>\n",
       "      <td>8.1</td>\n",
       "      <td>0.28</td>\n",
       "      <td>0.40</td>\n",
       "      <td>6.9</td>\n",
       "      <td>0.050</td>\n",
       "      <td>30.0</td>\n",
       "      <td>97.0</td>\n",
       "      <td>0.9951</td>\n",
       "      <td>3.26</td>\n",
       "      <td>0.44</td>\n",
       "      <td>10.1</td>\n",
       "      <td>6.0</td>\n",
       "    </tr>\n",
       "    <tr>\n",
       "      <th>3</th>\n",
       "      <td>7.2</td>\n",
       "      <td>0.23</td>\n",
       "      <td>0.32</td>\n",
       "      <td>8.5</td>\n",
       "      <td>0.058</td>\n",
       "      <td>47.0</td>\n",
       "      <td>186.0</td>\n",
       "      <td>0.9956</td>\n",
       "      <td>3.19</td>\n",
       "      <td>0.40</td>\n",
       "      <td>9.9</td>\n",
       "      <td>6.0</td>\n",
       "    </tr>\n",
       "    <tr>\n",
       "      <th>4</th>\n",
       "      <td>7.2</td>\n",
       "      <td>0.23</td>\n",
       "      <td>0.32</td>\n",
       "      <td>8.5</td>\n",
       "      <td>0.058</td>\n",
       "      <td>47.0</td>\n",
       "      <td>186.0</td>\n",
       "      <td>0.9956</td>\n",
       "      <td>3.19</td>\n",
       "      <td>0.40</td>\n",
       "      <td>9.9</td>\n",
       "      <td>6.0</td>\n",
       "    </tr>\n",
       "  </tbody>\n",
       "</table>\n",
       "</div>"
      ],
      "text/plain": [
       "   fixed acidity  volatile acidity  citric acid  residual sugar  chlorides  \\\n",
       "0            7.0              0.27         0.36            20.7      0.045   \n",
       "1            6.3              0.30         0.34             1.6      0.049   \n",
       "2            8.1              0.28         0.40             6.9      0.050   \n",
       "3            7.2              0.23         0.32             8.5      0.058   \n",
       "4            7.2              0.23         0.32             8.5      0.058   \n",
       "\n",
       "   free sulfur dioxide  total sulfur dioxide  density    pH  sulphates  \\\n",
       "0                 45.0                 170.0   1.0010  3.00       0.45   \n",
       "1                 14.0                 132.0   0.9940  3.30       0.49   \n",
       "2                 30.0                  97.0   0.9951  3.26       0.44   \n",
       "3                 47.0                 186.0   0.9956  3.19       0.40   \n",
       "4                 47.0                 186.0   0.9956  3.19       0.40   \n",
       "\n",
       "   alcohol  quality  \n",
       "0      8.8      6.0  \n",
       "1      9.5      6.0  \n",
       "2     10.1      6.0  \n",
       "3      9.9      6.0  \n",
       "4      9.9      6.0  "
      ]
     },
     "execution_count": 95,
     "metadata": {},
     "output_type": "execute_result"
    }
   ],
   "source": [
    "df.head()"
   ]
  },
  {
   "cell_type": "markdown",
   "metadata": {},
   "source": [
    "#### Pre-processing: Scaling the data"
   ]
  },
  {
   "cell_type": "code",
   "execution_count": 96,
   "metadata": {},
   "outputs": [],
   "source": [
    "scaler = MinMaxScaler()\n",
    "\n",
    "scaler = preprocessing.MinMaxScaler()\n",
    "X_train_minmax = scaler.fit_transform(X_train)"
   ]
  },
  {
   "cell_type": "code",
   "execution_count": 97,
   "metadata": {},
   "outputs": [
    {
     "data": {
      "text/plain": [
       "array([[0.32911392, 0.29411765, 0.15662651, ..., 0.30909091, 0.3255814 ,\n",
       "        0.71666667],\n",
       "       [0.34177215, 0.17647059, 0.12650602, ..., 0.45454545, 0.18604651,\n",
       "        0.55      ],\n",
       "       [0.30379747, 0.19607843, 0.28313253, ..., 0.36363636, 0.3372093 ,\n",
       "        0.25      ],\n",
       "       ...,\n",
       "       [0.35443038, 0.05882353, 0.30722892, ..., 0.17272727, 0.37209302,\n",
       "        0.45      ],\n",
       "       [0.44303797, 0.16666667, 0.1746988 , ..., 0.37272727, 0.08139535,\n",
       "        0.46666667],\n",
       "       [0.11392405, 0.25490196, 0.        , ..., 0.58181818, 0.45348837,\n",
       "        0.31666667]])"
      ]
     },
     "execution_count": 97,
     "metadata": {},
     "output_type": "execute_result"
    }
   ],
   "source": [
    "X_train_minmax"
   ]
  },
  {
   "cell_type": "markdown",
   "metadata": {},
   "source": [
    "#### We will find rmse and mean absolute error with scaled data"
   ]
  },
  {
   "cell_type": "markdown",
   "metadata": {},
   "source": [
    "**LINEAR REGRESSION**"
   ]
  },
  {
   "cell_type": "code",
   "execution_count": 274,
   "metadata": {},
   "outputs": [
    {
     "data": {
      "text/plain": [
       "0.8370730990199979"
      ]
     },
     "execution_count": 274,
     "metadata": {},
     "output_type": "execute_result"
    }
   ],
   "source": [
    "reg_l = reg\n",
    "reg_l.fit(X_train_minmax,y_train)\n",
    "y00_pred = reg_l.predict(X_train_minmax)\n",
    "\n",
    "#sqrt(mean_squared_error(x,training_labels))\n",
    "np.sqrt(metrics.mean_squared_error(y00_pred,y_train))"
   ]
  },
  {
   "cell_type": "code",
   "execution_count": 99,
   "metadata": {},
   "outputs": [
    {
     "data": {
      "text/plain": [
       "array([-0.61778693, -0.59314161, -0.63525385, -0.67418737, -0.6016719 ,\n",
       "       -0.66572714, -0.62824801, -0.63266254, -0.61708604, -0.62818339])"
      ]
     },
     "execution_count": 99,
     "metadata": {},
     "output_type": "execute_result"
    }
   ],
   "source": [
    "cvs0 = reg_l\n",
    "\n",
    "#calculating cross validation score with scoring set to negative mean absolute error\n",
    "scores_n0 = cross_val_score(cvs0, X_train_minmax,y_train, cv=10,scoring='neg_mean_absolute_error')\n",
    "scores_n0"
   ]
  },
  {
   "cell_type": "code",
   "execution_count": 100,
   "metadata": {},
   "outputs": [
    {
     "data": {
      "text/plain": [
       "0.6293948781847546"
      ]
     },
     "execution_count": 100,
     "metadata": {},
     "output_type": "execute_result"
    }
   ],
   "source": [
    "scores_n0_pos = -scores_n0\n",
    "np.mean(scores_n0_pos)"
   ]
  },
  {
   "cell_type": "markdown",
   "metadata": {},
   "source": [
    "**K-NEAREST NEIGHBOUR**"
   ]
  },
  {
   "cell_type": "code",
   "execution_count": 144,
   "metadata": {},
   "outputs": [
    {
     "data": {
      "text/plain": [
       "0.72907424"
      ]
     },
     "execution_count": 144,
     "metadata": {},
     "output_type": "execute_result"
    }
   ],
   "source": [
    "reg_n = neigh2\n",
    "reg_n.fit(X_train_minmax,y_train)\n",
    "\n",
    "y11_pred = reg_n.predict(X_train_minmax)\n",
    "\n",
    "np.sqrt(metrics.mean_squared_error(y11_pred,y_train))"
   ]
  },
  {
   "cell_type": "code",
   "execution_count": 145,
   "metadata": {},
   "outputs": [
    {
     "data": {
      "text/plain": [
       "array([-0.59349644, -0.60633904, -0.61101586, -0.63639033, -0.56741852,\n",
       "       -0.61868846, -0.5754934 , -0.59391671, -0.59718668, -0.61386555])"
      ]
     },
     "execution_count": 145,
     "metadata": {},
     "output_type": "execute_result"
    }
   ],
   "source": [
    "cvs1 = reg_n\n",
    "\n",
    "#calculating cross validation score with scoring set to negative mean absolute error\n",
    "scores_n1 = cross_val_score(cvs1, X_train_minmax,y_train, cv=10,scoring='neg_mean_absolute_error')\n",
    "scores_n1"
   ]
  },
  {
   "cell_type": "code",
   "execution_count": 146,
   "metadata": {},
   "outputs": [
    {
     "data": {
      "text/plain": [
       "0.6013810992240906"
      ]
     },
     "execution_count": 146,
     "metadata": {},
     "output_type": "execute_result"
    }
   ],
   "source": [
    "scores_n1_pos = -scores_n1\n",
    "np.mean(scores_n1_pos)"
   ]
  },
  {
   "cell_type": "markdown",
   "metadata": {},
   "source": [
    "**DECISION TREE**"
   ]
  },
  {
   "cell_type": "code",
   "execution_count": 250,
   "metadata": {},
   "outputs": [
    {
     "data": {
      "text/plain": [
       "0.7877537186473644"
      ]
     },
     "execution_count": 250,
     "metadata": {},
     "output_type": "execute_result"
    }
   ],
   "source": [
    "reg_tree = tree_regr2\n",
    "reg_tree.fit(X_train_minmax,y_train)\n",
    "\n",
    "y22_pred = reg_tree.predict(X_train_minmax)\n",
    "\n",
    "np.sqrt(metrics.mean_squared_error(y22_pred,y_train))"
   ]
  },
  {
   "cell_type": "code",
   "execution_count": 251,
   "metadata": {},
   "outputs": [
    {
     "data": {
      "text/plain": [
       "array([-0.59680677, -0.5839611 , -0.62032227, -0.68073531, -0.62030119,\n",
       "       -0.63946354, -0.62707998, -0.61277456, -0.62866451, -0.63058695])"
      ]
     },
     "execution_count": 251,
     "metadata": {},
     "output_type": "execute_result"
    }
   ],
   "source": [
    "cvs1 = reg_tree\n",
    "#calculating cross validation score with scoring set to negative mean absolute error\n",
    "scores_n2 = cross_val_score(cvs1, X_train_minmax,y_train, cv=10,scoring='neg_mean_absolute_error')\n",
    "scores_n2"
   ]
  },
  {
   "cell_type": "code",
   "execution_count": 252,
   "metadata": {},
   "outputs": [
    {
     "data": {
      "text/plain": [
       "0.6240696158448296"
      ]
     },
     "execution_count": 252,
     "metadata": {},
     "output_type": "execute_result"
    }
   ],
   "source": [
    "scores_n2_pos = -scores_n2\n",
    "np.mean(scores_n2_pos)"
   ]
  },
  {
   "cell_type": "markdown",
   "metadata": {},
   "source": [
    "try another model: \n",
    "##### BAYESIAN RIDGE REGRESSION"
   ]
  },
  {
   "cell_type": "code",
   "execution_count": 253,
   "metadata": {},
   "outputs": [
    {
     "data": {
      "text/plain": [
       "BayesianRidge(alpha_1=1e-06, alpha_2=1e-06, compute_score=False, copy_X=True,\n",
       "              fit_intercept=True, lambda_1=1e-06, lambda_2=1e-06, n_iter=300,\n",
       "              normalize=False, tol=0.001, verbose=False)"
      ]
     },
     "execution_count": 253,
     "metadata": {},
     "output_type": "execute_result"
    }
   ],
   "source": [
    "from sklearn import linear_model\n",
    "\n",
    "breg = linear_model.BayesianRidge()\n",
    "breg.fit(X_train_minmax,y_train)\n",
    "#BayesianRidge()"
   ]
  },
  {
   "cell_type": "code",
   "execution_count": 111,
   "metadata": {},
   "outputs": [
    {
     "data": {
      "text/plain": [
       "0.8372990633746291"
      ]
     },
     "execution_count": 111,
     "metadata": {},
     "output_type": "execute_result"
    }
   ],
   "source": [
    "#predict value of quality on the training set\n",
    "y_pred = breg.predict(X_train_minmax)\n",
    "\n",
    "#caculate root mean square error\n",
    "rmse_b = np.sqrt(metrics.mean_squared_error(y_pred,y_train))\n",
    "rmse_b"
   ]
  },
  {
   "cell_type": "code",
   "execution_count": 112,
   "metadata": {},
   "outputs": [
    {
     "data": {
      "text/plain": [
       "array([-0.61769851, -0.59409727, -0.63825235, -0.67624179, -0.60070178,\n",
       "       -0.66483503, -0.62848181, -0.63298682, -0.61719403, -0.62546705])"
      ]
     },
     "execution_count": 112,
     "metadata": {},
     "output_type": "execute_result"
    }
   ],
   "source": [
    "clfb = breg\n",
    "\n",
    "#calculating cross validation score with scoring set to negative mean absolute error\n",
    "scores_b = cross_val_score(clfb, X_train_minmax,y_train, cv=10,scoring='neg_mean_absolute_error')\n",
    "scores_b"
   ]
  },
  {
   "cell_type": "code",
   "execution_count": 190,
   "metadata": {},
   "outputs": [
    {
     "data": {
      "text/plain": [
       "0.6295956427830008"
      ]
     },
     "execution_count": 190,
     "metadata": {},
     "output_type": "execute_result"
    }
   ],
   "source": [
    "clfbay = -scores_b\n",
    "np.mean(clfbay)"
   ]
  },
  {
   "cell_type": "markdown",
   "metadata": {},
   "source": [
    "##### Note: Lowest mean absolute error is of  K-nearest neighbour\n",
    "We will try to tune that then apply to test data"
   ]
  },
  {
   "cell_type": "code",
   "execution_count": 269,
   "metadata": {},
   "outputs": [
    {
     "data": {
      "text/plain": [
       "0.7188529065311849"
      ]
     },
     "execution_count": 269,
     "metadata": {},
     "output_type": "execute_result"
    }
   ],
   "source": [
    "# N = 9 #\n",
    "neigh_final = KNeighborsRegressor(n_neighbors = 9, weights='uniform',algorithm='kd_tree',leaf_size=31,p=2)\n",
    "neigh_final.fit(X_train_minmax,y_train)\n",
    "\n",
    "#predict value of quality on the training set\n",
    "yf_pred = neigh_final.predict(X_train_minmax)\n",
    "\n",
    "#caculate root mean square error\n",
    "sqrt(mean_squared_error(yf_pred,y_train))"
   ]
  },
  {
   "cell_type": "code",
   "execution_count": 270,
   "metadata": {},
   "outputs": [
    {
     "data": {
      "text/plain": [
       "array([-0.59467983, -0.6046868 , -0.61784005, -0.63656491, -0.56374562,\n",
       "       -0.62175757, -0.575468  , -0.59517729, -0.59704459, -0.61785012])"
      ]
     },
     "execution_count": 270,
     "metadata": {},
     "output_type": "execute_result"
    }
   ],
   "source": [
    "cvs_f = neigh_final\n",
    "\n",
    "#calculating cross validation score with scoring set to negative mean absolute error\n",
    "scores_f = cross_val_score(cvs_f, X_train_minmax,y_train, cv=10,scoring='neg_mean_absolute_error')\n",
    "scores_f"
   ]
  },
  {
   "cell_type": "code",
   "execution_count": 271,
   "metadata": {},
   "outputs": [
    {
     "data": {
      "text/plain": [
       "0.6024814784526825"
      ]
     },
     "execution_count": 271,
     "metadata": {},
     "output_type": "execute_result"
    }
   ],
   "source": [
    "scores_f_pos = -scores_f\n",
    "np.mean(scores_f_pos)"
   ]
  },
  {
   "cell_type": "code",
   "execution_count": 272,
   "metadata": {},
   "outputs": [
    {
     "data": {
      "text/plain": [
       "array([6.111111 , 4.888889 , 5.5555553, 5.4444447, 5.6666665, 5.7777777,\n",
       "       5.3333335, 5.5555553, 5.4444447, 5.2222223, 5.6666665, 5.5555553,\n",
       "       5.6666665, 6.2222223, 5.7777777, 5.4444447, 5.2222223, 5.7777777,\n",
       "       5.4444447, 5.5555553, 5.5555553, 5.6666665, 4.888889 , 5.3333335,\n",
       "       5.4444447, 5.5555553, 7.111111 , 5.7777777, 5.6666665, 5.5555553,\n",
       "       5.5555553, 7.111111 , 6.3333335, 5.2222223, 7.       , 5.3333335,\n",
       "       5.3333335, 5.6666665, 6.5555553, 5.5555553, 5.2222223, 5.5555553,\n",
       "       6.6666665, 4.5555553, 5.111111 , 5.5555553, 6.888889 , 6.0992007,\n",
       "       5.7777777, 5.7777777, 6.111111 , 5.888889 , 5.4444447, 5.888889 ,\n",
       "       6.4444447, 6.888889 , 6.6666665, 5.888889 , 5.4444447, 5.3333335,\n",
       "       6.6666665, 5.2222223, 7.111111 , 6.111111 , 5.4444447, 5.5555553,\n",
       "       6.5555553, 6.2222223, 5.4444447, 7.4444447, 5.6666665, 5.3333335,\n",
       "       6.888889 , 5.6666665, 5.8769784, 5.6666665, 6.       , 5.111111 ,\n",
       "       5.4444447, 6.5555553, 5.3333335, 5.2222223, 6.       , 5.2222223,\n",
       "       6.2222223, 6.2222223, 5.       , 5.       , 5.7777777, 5.7777777,\n",
       "       6.       , 4.7777777, 7.2222223, 6.3333335, 5.2222223, 5.111111 ,\n",
       "       5.6666665, 5.5555553, 5.4444447, 5.7777777, 5.3333335, 5.210312 ,\n",
       "       6.3333335, 5.5555553, 5.4444447, 5.7777777, 6.6666665, 5.2222223,\n",
       "       5.2222223, 5.4444447, 5.888889 , 5.       , 6.111111 , 5.4444447,\n",
       "       6.321423 , 5.7777777, 6.6666665, 7.111111 , 5.       , 5.7777777,\n",
       "       5.7777777, 6.2222223, 5.7777777, 5.111111 , 6.3333335, 6.4444447,\n",
       "       6.111111 , 5.2222223, 5.7777777, 6.5555553, 5.4444447, 6.2222223,\n",
       "       5.7777777, 5.3333335, 6.765867 , 5.3333335, 5.2222223, 5.6666665,\n",
       "       5.5555553, 5.6666665, 5.4444447, 5.4444447, 5.4444447, 5.4444447,\n",
       "       6.2222223, 6.       , 6.3333335, 6.6666665, 5.7777777, 6.7777777,\n",
       "       5.6666665, 6.5555553, 6.2222223, 5.4444447, 5.6666665, 5.4444447,\n",
       "       5.4444447, 5.5555553, 5.5555553, 6.210312 , 5.3333335, 5.5555553,\n",
       "       5.3333335, 5.       , 5.2222223, 4.5555553, 5.7777777, 6.6666665,\n",
       "       6.432534 , 6.4444447, 6.111111 , 5.888889 , 5.6666665, 6.2222223,\n",
       "       5.2222223, 6.2222223, 5.7777777, 5.2222223, 5.6666665, 5.6666665,\n",
       "       5.5555553, 6.4444447, 6.3333335, 5.888889 , 7.       , 5.6666665,\n",
       "       6.888889 , 6.5555553, 5.4444447, 5.4444447, 5.5555553, 5.7777777,\n",
       "       5.888889 , 5.3333335, 5.3333335, 6.321423 , 5.4444447, 6.111111 ,\n",
       "       6.111111 , 5.2222223, 6.       , 6.2222223, 5.5555553, 6.4444447,\n",
       "       5.888889 , 6.888889 , 5.4444447, 5.4444447, 7.111111 , 6.111111 ,\n",
       "       6.3333335, 6.3333335, 6.5436454, 5.888889 , 5.3333335, 5.7777777,\n",
       "       6.6666665, 5.3333335, 5.5555553, 6.111111 , 4.888889 , 6.       ,\n",
       "       5.2222223, 6.210312 , 5.4444447, 5.4444447, 5.       , 5.5555553,\n",
       "       6.111111 , 7.       , 5.3333335, 6.2222223, 6.111111 , 5.6666665,\n",
       "       5.5555553, 5.6666665, 5.4444447, 6.888889 , 5.6666665, 5.5555553,\n",
       "       6.       , 5.4444447, 6.3333335, 5.7777777, 5.2222223, 5.4444447,\n",
       "       4.888889 , 6.4444447, 5.888889 , 5.6666665, 5.6666665, 5.888889 ,\n",
       "       6.2222223, 5.3333335, 5.2222223, 5.6666665, 5.6666665, 5.3333335,\n",
       "       5.4444447, 5.765867 , 5.888889 , 5.4444447, 4.6666665, 5.4444447,\n",
       "       5.111111 , 4.5555553, 5.6666665, 5.888889 , 5.888889 , 4.888889 ,\n",
       "       5.3333335, 4.7777777, 6.6666665, 6.       , 5.5555553, 5.5555553,\n",
       "       6.       , 5.4444447, 5.6666665, 5.3333335, 7.111111 , 6.2222223,\n",
       "       5.6666665, 5.111111 , 5.6666665, 6.       , 5.6666665, 5.7777777,\n",
       "       6.4444447, 5.4444447, 6.5555553, 6.       , 5.4444447, 6.       ,\n",
       "       6.4444447, 5.3333335, 5.2222223, 6.       , 5.6666665, 5.7777777,\n",
       "       5.6666665, 6.       , 5.3333335, 5.3333335, 5.5555553, 5.2222223,\n",
       "       5.2222223, 5.2222223, 5.3333335, 6.       , 6.5555553, 5.2222223,\n",
       "       5.4444447, 5.4444447, 6.4444447, 6.       , 6.5555553, 5.5555553,\n",
       "       5.6666665, 5.888889 , 5.3333335, 5.5555553, 5.4444447, 5.5555553,\n",
       "       5.111111 , 5.       , 6.7777777, 5.4444447, 5.7777777, 5.7777777,\n",
       "       5.2222223, 5.6666665, 6.4444447, 5.2222223, 6.888889 , 5.6666665,\n",
       "       6.7777777, 4.888889 , 5.7777777, 6.321423 , 5.       , 4.888889 ,\n",
       "       5.2222223, 5.888889 , 6.       , 5.5555553, 5.7777777, 5.888889 ,\n",
       "       6.7777777, 5.4444447, 6.888889 , 5.2222223, 6.4444447, 6.       ,\n",
       "       5.3333335, 6.3333335, 5.7777777, 5.888889 , 5.3333335, 7.4444447,\n",
       "       5.5555553, 5.5555553, 5.5555553, 5.6666665, 5.2222223, 6.4444447,\n",
       "       5.4444447, 5.2222223, 5.4444447, 5.6666665, 6.6666665, 5.3333335,\n",
       "       5.2222223, 6.       , 5.5555553, 5.2222223, 5.4444447, 5.5555553,\n",
       "       5.6666665, 5.4444447, 6.3333335, 5.2222223, 6.111111 , 5.7777777,\n",
       "       5.7777777, 5.6666665, 5.6666665, 5.2222223, 5.4444447, 5.3333335,\n",
       "       5.6666665, 5.6666665, 5.7777777, 6.2222223, 5.5555553, 5.4444447,\n",
       "       7.111111 , 5.4444447, 6.6666665, 5.4444447, 5.7777777, 6.4444447,\n",
       "       5.111111 , 5.4444447, 5.7777777, 5.5555553, 5.6666665, 5.7777777,\n",
       "       5.2222223, 5.4444447, 5.6666665, 7.111111 , 5.4444447, 7.111111 ,\n",
       "       5.111111 , 5.7777777, 6.2222223, 6.4444447, 7.       , 5.3333335,\n",
       "       6.432534 , 5.4444447, 5.7777777, 5.888889 , 5.6666665, 6.7777777,\n",
       "       5.888889 , 6.       , 6.2222223, 7.111111 , 5.5555553, 5.4444447,\n",
       "       5.2222223, 5.888889 , 6.888889 , 7.111111 , 5.4444447, 5.4444447,\n",
       "       6.6666665, 5.4444447, 4.888889 , 6.       , 6.3333335, 5.7777777,\n",
       "       5.5555553, 5.111111 , 6.4444447, 5.888889 , 6.3333335, 5.3333335,\n",
       "       5.7777777, 5.111111 , 5.5555553, 5.888889 , 5.2222223, 5.888889 ,\n",
       "       5.4444447, 5.5555553, 5.6666665, 5.4444447, 5.2222223, 6.7777777,\n",
       "       5.2222223, 5.888889 , 5.2222223, 5.       , 6.5555553, 5.6666665,\n",
       "       5.4444447, 6.111111 , 5.3333335, 5.4444447, 5.7777777, 5.5555553,\n",
       "       5.2222223, 5.6666665, 5.2222223, 7.       , 4.888889 , 5.5555553,\n",
       "       5.4444447, 6.8769784, 5.5555553, 5.3333335, 5.7777777, 6.2222223,\n",
       "       5.6666665, 5.4444447, 5.5555553, 5.5555553, 5.4444447, 6.2222223,\n",
       "       6.3333335, 7.       , 5.3333335, 5.7777777, 5.4444447, 6.2222223,\n",
       "       5.2222223, 5.3333335, 5.4444447, 6.2222223, 5.4444447, 5.5555553,\n",
       "       5.       , 5.5555553, 5.6666665, 5.3333335, 5.4444447, 6.111111 ,\n",
       "       5.2222223, 5.111111 , 5.888889 , 6.       , 7.4444447, 6.111111 ,\n",
       "       5.4444447, 6.       , 5.5555553, 5.4444447, 5.7777777, 7.111111 ,\n",
       "       5.888889 , 7.4444447, 5.6666665, 5.5555553, 5.6666665, 6.4444447,\n",
       "       5.4444447, 5.4444447, 5.3333335, 5.7777777, 5.7777777, 5.3333335,\n",
       "       6.888889 , 6.2222223, 5.6666665, 5.7777777, 6.       , 5.111111 ,\n",
       "       5.4444447, 5.4444447, 5.       , 6.111111 , 5.111111 , 6.2222223,\n",
       "       5.4444447, 5.4444447, 5.3333335, 5.111111 , 5.6666665, 5.888889 ,\n",
       "       5.       , 6.888889 , 6.5555553, 5.7777777, 5.5555553, 6.4444447,\n",
       "       6.       , 6.7777777, 5.111111 , 5.5555553, 5.4444447, 5.4444447,\n",
       "       5.5555553, 6.3333335, 5.3333335, 5.888889 , 5.7777777, 5.888889 ,\n",
       "       5.4444447, 5.6666665, 5.4444447, 5.4444447, 5.5436454, 6.4444447,\n",
       "       5.5555553, 7.2222223, 5.3333335, 4.7777777, 7.       , 5.3333335,\n",
       "       6.6666665, 5.2222223, 5.5555553, 6.7777777, 5.888889 , 5.3333335,\n",
       "       5.111111 , 5.111111 , 5.6666665, 6.7777777, 5.4444447, 6.5555553,\n",
       "       5.2222223, 5.5555553, 5.6547565, 5.4444447, 5.2222223, 6.4444447,\n",
       "       6.       , 7.4444447, 5.4444447, 5.6666665, 5.6547565, 5.888889 ,\n",
       "       5.5555553, 4.888889 , 5.5555553, 6.3333335, 5.3333335, 7.111111 ,\n",
       "       6.2222223, 5.888889 , 5.6666665, 6.111111 , 6.5555553, 5.5555553,\n",
       "       6.111111 , 7.2222223, 4.5555553, 5.888889 , 5.6666665, 5.2222223,\n",
       "       5.111111 , 6.5436454, 5.6666665, 6.2222223, 6.888889 , 6.5555553,\n",
       "       5.4444447, 5.4444447, 5.5555553, 5.6666665, 5.6666665, 5.7777777,\n",
       "       5.111111 , 5.6666665, 7.210312 , 6.2222223, 5.3333335, 5.5555553,\n",
       "       5.3333335, 7.       , 5.7777777, 6.5555553, 5.7777777, 5.5555553,\n",
       "       5.888889 , 6.6666665, 6.2222223, 5.7777777, 6.7777777, 7.111111 ,\n",
       "       5.7777777, 6.7777777, 5.7777777, 5.888889 , 6.7777777, 5.888889 ,\n",
       "       5.5555553, 5.7777777, 6.2222223, 5.111111 , 5.5555553, 6.2222223,\n",
       "       5.2222223, 5.2222223, 5.7777777, 6.5555553, 5.5555553, 4.888889 ,\n",
       "       5.6666665, 5.5555553, 5.7777777, 5.888889 , 5.6666665, 5.3333335,\n",
       "       5.3333335, 6.       , 5.888889 , 5.6666665, 5.4444447, 5.6666665,\n",
       "       5.7777777, 5.6666665, 5.7777777, 5.5555553, 5.6666665, 5.4444447,\n",
       "       5.6666665, 5.4444447, 5.7777777, 6.2222223, 6.2222223, 5.6666665,\n",
       "       5.7777777, 5.4444447, 5.888889 , 5.3333335, 6.       , 5.3333335,\n",
       "       5.6666665, 6.2222223, 5.6666665, 6.2222223, 5.888889 , 5.888889 ,\n",
       "       6.888889 , 5.888889 , 5.5555553, 6.432534 , 5.7777777, 5.6666665,\n",
       "       5.3333335, 5.5555553, 5.7777777, 5.4444447, 5.5555553, 5.4444447,\n",
       "       6.111111 , 5.5555553, 5.4444447, 6.111111 , 5.6666665, 5.4444447,\n",
       "       5.6666665, 5.2222223, 6.4444447, 5.6666665, 5.6666665, 6.5555553,\n",
       "       5.6666665, 5.4444447, 5.5555553, 4.3333335, 5.111111 , 5.6666665,\n",
       "       6.888889 , 6.7777777, 6.2222223, 6.5555553, 5.6666665, 6.       ,\n",
       "       5.2222223, 6.2222223, 5.888889 , 5.888889 , 6.5555553, 5.5555553,\n",
       "       5.4444447, 6.       , 5.5555553, 5.888889 , 6.2222223, 5.7777777,\n",
       "       5.3333335, 5.888889 , 4.888889 , 6.4444447, 5.6666665, 5.4444447,\n",
       "       7.111111 , 5.3333335, 5.7777777, 6.5555553, 6.7777777, 5.4444447,\n",
       "       6.765867 , 5.6666665, 6.5555553, 6.2222223, 5.3333335, 5.5555553,\n",
       "       5.4444447, 5.888889 , 5.6666665, 6.3333335, 6.       , 6.7777777,\n",
       "       5.3333335, 7.4444447, 5.4444447, 5.4444447, 5.7777777, 5.7777777,\n",
       "       5.321423 , 6.4444447, 5.6666665, 5.5555553, 5.3333335, 6.111111 ,\n",
       "       6.3333335, 5.3333335, 4.7777777, 5.4444447, 7.3333335, 5.6666665,\n",
       "       5.2222223, 6.2222223, 5.2222223, 7.       , 5.2222223, 5.888889 ,\n",
       "       6.4444447, 6.       , 6.111111 , 4.888889 , 6.111111 , 5.4444447,\n",
       "       6.3333335, 5.2222223, 5.       , 5.6666665, 4.888889 , 6.6666665,\n",
       "       5.4444447, 6.       , 5.111111 , 5.4444447, 5.4444447, 5.4444447,\n",
       "       6.111111 , 6.111111 , 6.2222223, 5.4444447, 5.7777777, 5.3333335,\n",
       "       6.       , 5.7777777, 5.7777777, 5.4444447, 5.5555553, 5.111111 ,\n",
       "       6.888889 , 7.2222223, 5.4444447, 5.4444447, 6.7777777, 6.5555553,\n",
       "       5.888889 , 6.5555553, 5.7777777, 7.111111 , 6.5555553, 6.7777777,\n",
       "       5.4444447, 6.2222223, 5.6666665, 6.       , 5.7777777, 5.4444447,\n",
       "       5.4444447, 6.       , 5.2222223, 5.3333335, 5.6666665, 6.5555553,\n",
       "       5.2222223, 6.3333335, 5.7777777, 5.6666665, 5.6666665, 5.5555553,\n",
       "       7.111111 , 7.       , 5.3333335, 5.2222223, 6.6547565, 6.6666665,\n",
       "       6.210312 , 5.5555553, 5.6666665, 6.3333335, 5.6666665, 5.5555553,\n",
       "       7.       , 5.4444447, 5.5555553, 6.4444447, 5.888889 , 5.2222223,\n",
       "       6.111111 , 5.7777777, 5.3333335, 6.111111 , 5.3333335, 5.5555553,\n",
       "       5.111111 , 5.4444447, 6.4444447, 5.       , 6.       , 6.111111 ,\n",
       "       5.5555553, 6.3333335, 5.7777777, 5.4444447, 6.3333335, 5.2222223,\n",
       "       5.6666665, 5.2222223, 5.4444447, 5.3333335, 5.3333335, 5.7777777,\n",
       "       5.7777777, 5.111111 , 5.7777777, 5.4444447, 6.111111 , 5.6666665,\n",
       "       5.2222223, 6.321423 , 6.6666665, 5.7777777, 6.111111 , 5.5555553,\n",
       "       5.6666665, 5.6666665, 5.3333335, 5.4444447, 7.       , 6.4444447,\n",
       "       5.4444447, 5.4444447, 6.6666665, 5.3333335, 6.6666665, 5.3333335,\n",
       "       6.3333335, 5.7777777, 5.5555553, 7.4444447, 5.2222223, 5.3333335,\n",
       "       5.111111 , 6.2222223, 5.4444447, 5.4444447, 6.6666665, 6.       ,\n",
       "       5.7777777, 5.2222223, 5.7777777, 6.2222223, 6.432534 , 6.5436454,\n",
       "       5.5555553, 6.888889 , 5.6666665, 6.5436454, 5.888889 , 5.3333335,\n",
       "       6.111111 , 5.111111 , 5.7777777, 5.4444447, 5.5555553, 6.111111 ,\n",
       "       5.888889 , 4.888889 , 5.3333335, 5.6666665, 5.888889 , 6.6666665,\n",
       "       5.       , 5.2222223, 5.4444447, 6.3333335, 5.2222223, 5.6666665,\n",
       "       6.2222223, 6.4444447, 6.111111 , 5.6666665, 6.111111 , 5.5555553],\n",
       "      dtype=float32)"
      ]
     },
     "execution_count": 272,
     "metadata": {},
     "output_type": "execute_result"
    }
   ],
   "source": [
    "X_test_minmax = scaler.fit_transform(X_test)\n",
    "y_final_pred = neigh_final.predict(X_test_minmax)\n",
    "y_final_pred "
   ]
  },
  {
   "cell_type": "code",
   "execution_count": 273,
   "metadata": {},
   "outputs": [
    {
     "data": {
      "text/plain": [
       "0.8749431"
      ]
     },
     "execution_count": 273,
     "metadata": {},
     "output_type": "execute_result"
    }
   ],
   "source": [
    "rmse_final = np.sqrt(metrics.mean_squared_error(y_final_pred ,y_test))\n",
    "rmse_final"
   ]
  }
 ],
 "metadata": {
  "kernelspec": {
   "display_name": "Python 3",
   "language": "python",
   "name": "python3"
  },
  "language_info": {
   "codemirror_mode": {
    "name": "ipython",
    "version": 3
   },
   "file_extension": ".py",
   "mimetype": "text/x-python",
   "name": "python",
   "nbconvert_exporter": "python",
   "pygments_lexer": "ipython3",
   "version": "3.7.4"
  }
 },
 "nbformat": 4,
 "nbformat_minor": 4
}
